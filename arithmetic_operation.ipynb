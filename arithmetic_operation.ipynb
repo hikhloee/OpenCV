{
 "cells": [
  {
   "cell_type": "code",
   "execution_count": null,
   "metadata": {},
   "outputs": [],
   "source": [
    "import cv2\n",
    "import numpy as np\n",
    "\n",
    "\n",
    "image=cv2.imread(\"landscape.jpg\",cv2.IMREAD_GRAYSCALE)\n",
    "\n",
    "cv2.imshow(\"My display\", image)\n",
    "\n",
    "\n",
    "#out_img=image+50\n",
    "#out_img=image-50\n",
    "#out_img = 255-image\n",
    "\n",
    "height,width=image.shape[:2]\n",
    "#image 라는 data의 shape\n",
    "#shape : ( height , width , channel ) 중에 앞에 두개만 쓰겠다.\n",
    "\n",
    "out_img=np.zeros((height,width),np.uint8)\n",
    "#uint8 : unsigned char 8bits (Min,Max) :(0,255)\n",
    "#값을 0으로 initialization\n",
    "\n",
    "for y in range(0,height):\n",
    "    for x in range(0,width):\n",
    "        gray = image[y,x]\n",
    "        #gray=gray +50\n",
    "        gray=255-gray\n",
    "\n",
    "        \n",
    "        if gray >255 :\n",
    "            gray=255\n",
    "        elif gray <0 :\n",
    "            gray=0\n",
    "\n",
    "        out_img[y,x]= int(gray)\n",
    "        #정수만 표현할 수 있는 연상을 쓰므로  int로 바꾸어줌\n",
    "        \n",
    "        \n",
    "cv2.imshow(\"Output\",out_img)\n",
    "\n",
    "cv2.waitKey(0)\n",
    "cv2.destroyAllWindows( )"
   ]
  },
  {
   "cell_type": "code",
   "execution_count": null,
   "metadata": {},
   "outputs": [],
   "source": [
    "import numpy as np"
   ]
  },
  {
   "cell_type": "code",
   "execution_count": null,
   "metadata": {},
   "outputs": [],
   "source": [
    "image=cv2.imread(\"landscape.jpg\",cv2.IMREAD_GRAYSCALE)\n",
    "\n",
    "cv2.imshow(\"My display\", image)"
   ]
  },
  {
   "cell_type": "code",
   "execution_count": null,
   "metadata": {},
   "outputs": [],
   "source": [
    "#out_img=image+50\n",
    "#out_img=image-50\n",
    "#out_img = 255-image\n",
    "\n",
    "height,width=image.shape[:2]\n",
    "#image 라는 data의 shape\n",
    "#shape : ( height , width , channel ) 중에 앞에 두개만 쓰겠다.\n",
    "\n",
    "out_img=np.zeros((height,width),np.uint8)\n",
    "#uint8 : unsigned char 8bits (Min,Max) :(0,255)\n",
    "#값을 0으로 initialization\n"
   ]
  },
  {
   "cell_type": "code",
   "execution_count": null,
   "metadata": {},
   "outputs": [],
   "source": [
    "for y in range(0,height):\n",
    "    for x in range(0,width):\n",
    "        gray = image[y,x]\n",
    "        #gray=gray +50\n",
    "        gray=255-gray\n",
    "\n",
    "        \n",
    "        if gray >255 :\n",
    "            gray=255\n",
    "        elif gray <0 :\n",
    "            gray=0\n",
    "\n",
    "        out_img[y,x]= int(gray)\n",
    "        #정수만 표현할 수 있는 연상을 쓰므로  int로 바꾸어줌\n",
    "        "
   ]
  },
  {
   "cell_type": "code",
   "execution_count": null,
   "metadata": {},
   "outputs": [],
   "source": [
    "cv2.imshow(\"Output\",out_img)\n",
    "\n",
    "cv2.waitKey(0)\n",
    "cv2.destroyAllWindows( )"
   ]
  },
  {
   "cell_type": "code",
   "execution_count": null,
   "metadata": {},
   "outputs": [],
   "source": []
  },
  {
   "cell_type": "code",
   "execution_count": null,
   "metadata": {},
   "outputs": [],
   "source": []
  },
  {
   "cell_type": "code",
   "execution_count": null,
   "metadata": {},
   "outputs": [],
   "source": []
  },
  {
   "cell_type": "code",
   "execution_count": null,
   "metadata": {},
   "outputs": [],
   "source": []
  }
 ],
 "metadata": {
  "kernelspec": {
   "display_name": "Python 3",
   "language": "python",
   "name": "python3"
  },
  "language_info": {
   "codemirror_mode": {
    "name": "ipython",
    "version": 3
   },
   "file_extension": ".py",
   "mimetype": "text/x-python",
   "name": "python",
   "nbconvert_exporter": "python",
   "pygments_lexer": "ipython3",
   "version": "3.8.5"
  }
 },
 "nbformat": 4,
 "nbformat_minor": 4
}
